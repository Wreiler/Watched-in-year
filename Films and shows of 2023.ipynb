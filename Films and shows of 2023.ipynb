{
 "cells": [
  {
   "cell_type": "markdown",
   "metadata": {},
   "source": [
    "### Main table"
   ]
  },
  {
   "cell_type": "code",
   "execution_count": 3,
   "metadata": {
    "scrolled": false
   },
   "outputs": [
    {
     "data": {
      "application/vnd.jupyter.widget-view+json": {
       "model_id": "bbc1be96982a4aaaa1516971433fcf96",
       "version_major": 2,
       "version_minor": 0
      },
      "text/plain": [
       "Button(description='Show all movies', layout=Layout(margin='0px 0px 0px 70px', width='200px'), style=ButtonSty…"
      ]
     },
     "metadata": {},
     "output_type": "display_data"
    },
    {
     "data": {
      "text/html": [
       "<style type=\"text/css\">\n",
       "#T_fded5_row0_col0, #T_fded5_row0_col1, #T_fded5_row0_col2, #T_fded5_row1_col0, #T_fded5_row1_col1, #T_fded5_row1_col2, #T_fded5_row2_col0, #T_fded5_row2_col1, #T_fded5_row2_col2, #T_fded5_row3_col0, #T_fded5_row3_col1, #T_fded5_row3_col2, #T_fded5_row4_col0, #T_fded5_row4_col1, #T_fded5_row4_col2, #T_fded5_row5_col0, #T_fded5_row5_col1, #T_fded5_row5_col2, #T_fded5_row6_col0, #T_fded5_row6_col1, #T_fded5_row6_col2, #T_fded5_row7_col0, #T_fded5_row7_col1, #T_fded5_row7_col2, #T_fded5_row8_col0, #T_fded5_row8_col1, #T_fded5_row8_col2 {\n",
       "  background-color: #222430;\n",
       "  color: #95abab;\n",
       "  border-style: solid;\n",
       "  border-width: 1px;\n",
       "  border-color: #733737;\n",
       "  max-width: 450px;\n",
       "  font-size: 10pt;\n",
       "  text-align: center;\n",
       "}\n",
       "#T_fded5_row9_col0, #T_fded5_row9_col1, #T_fded5_row9_col2 {\n",
       "  background-color: #222430;\n",
       "  color: #95abab;\n",
       "  border-style: solid;\n",
       "  border-width: 1px;\n",
       "  border-color: #733737;\n",
       "  max-width: 450px;\n",
       "  font-size: 10pt;\n",
       "  text-align: center;\n",
       "  font-weight: bold;\n",
       "  font-style: italic;\n",
       "  background-color: #6e2626;\n",
       "}\n",
       "</style>\n",
       "<table id=\"T_fded5\">\n",
       "  <thead>\n",
       "    <tr>\n",
       "      <th class=\"blank level0\" >&nbsp;</th>\n",
       "      <th id=\"T_fded5_level0_col0\" class=\"col_heading level0 col0\" >Movie</th>\n",
       "      <th id=\"T_fded5_level0_col1\" class=\"col_heading level0 col1\" >Watch date</th>\n",
       "      <th id=\"T_fded5_level0_col2\" class=\"col_heading level0 col2\" >R/F*</th>\n",
       "    </tr>\n",
       "  </thead>\n",
       "  <tbody>\n",
       "    <tr>\n",
       "      <th id=\"T_fded5_level0_row0\" class=\"row_heading level0 row0\" >2</th>\n",
       "      <td id=\"T_fded5_row0_col0\" class=\"data row0 col0\" >Philadelphia</td>\n",
       "      <td id=\"T_fded5_row0_col1\" class=\"data row0 col1\" >03.01.2023</td>\n",
       "      <td id=\"T_fded5_row0_col2\" class=\"data row0 col2\" >R</td>\n",
       "    </tr>\n",
       "    <tr>\n",
       "      <th id=\"T_fded5_level0_row1\" class=\"row_heading level0 row1\" >3</th>\n",
       "      <td id=\"T_fded5_row1_col0\" class=\"data row1 col0\" >There Will Be Blood</td>\n",
       "      <td id=\"T_fded5_row1_col1\" class=\"data row1 col1\" >04.01.2023</td>\n",
       "      <td id=\"T_fded5_row1_col2\" class=\"data row1 col2\" >R</td>\n",
       "    </tr>\n",
       "    <tr>\n",
       "      <th id=\"T_fded5_level0_row2\" class=\"row_heading level0 row2\" >4</th>\n",
       "      <td id=\"T_fded5_row2_col0\" class=\"data row2 col0\" >Koyaanisqatsi</td>\n",
       "      <td id=\"T_fded5_row2_col1\" class=\"data row2 col1\" >05.01.2023</td>\n",
       "      <td id=\"T_fded5_row2_col2\" class=\"data row2 col2\" >R</td>\n",
       "    </tr>\n",
       "    <tr>\n",
       "      <th id=\"T_fded5_level0_row3\" class=\"row_heading level0 row3\" >5</th>\n",
       "      <td id=\"T_fded5_row3_col0\" class=\"data row3 col0\" >Nope</td>\n",
       "      <td id=\"T_fded5_row3_col1\" class=\"data row3 col1\" >06.01.2023</td>\n",
       "      <td id=\"T_fded5_row3_col2\" class=\"data row3 col2\" >F</td>\n",
       "    </tr>\n",
       "    <tr>\n",
       "      <th id=\"T_fded5_level0_row4\" class=\"row_heading level0 row4\" >6</th>\n",
       "      <td id=\"T_fded5_row4_col0\" class=\"data row4 col0\" >Vanilla Sky</td>\n",
       "      <td id=\"T_fded5_row4_col1\" class=\"data row4 col1\" >07.01.2023</td>\n",
       "      <td id=\"T_fded5_row4_col2\" class=\"data row4 col2\" >F</td>\n",
       "    </tr>\n",
       "    <tr>\n",
       "      <th id=\"T_fded5_level0_row5\" class=\"row_heading level0 row5\" >7</th>\n",
       "      <td id=\"T_fded5_row5_col0\" class=\"data row5 col0\" >Bande à part</td>\n",
       "      <td id=\"T_fded5_row5_col1\" class=\"data row5 col1\" >08.01.2023</td>\n",
       "      <td id=\"T_fded5_row5_col2\" class=\"data row5 col2\" >F</td>\n",
       "    </tr>\n",
       "    <tr>\n",
       "      <th id=\"T_fded5_level0_row6\" class=\"row_heading level0 row6\" >8</th>\n",
       "      <td id=\"T_fded5_row6_col0\" class=\"data row6 col0\" >Das Boot</td>\n",
       "      <td id=\"T_fded5_row6_col1\" class=\"data row6 col1\" >09.01.2023</td>\n",
       "      <td id=\"T_fded5_row6_col2\" class=\"data row6 col2\" >F</td>\n",
       "    </tr>\n",
       "    <tr>\n",
       "      <th id=\"T_fded5_level0_row7\" class=\"row_heading level0 row7\" >9</th>\n",
       "      <td id=\"T_fded5_row7_col0\" class=\"data row7 col0\" >Mystic River</td>\n",
       "      <td id=\"T_fded5_row7_col1\" class=\"data row7 col1\" >10.01.2023</td>\n",
       "      <td id=\"T_fded5_row7_col2\" class=\"data row7 col2\" >F</td>\n",
       "    </tr>\n",
       "    <tr>\n",
       "      <th id=\"T_fded5_level0_row8\" class=\"row_heading level0 row8\" >10</th>\n",
       "      <td id=\"T_fded5_row8_col0\" class=\"data row8 col0\" >Vivre sa vie: Film en douze tableaux</td>\n",
       "      <td id=\"T_fded5_row8_col1\" class=\"data row8 col1\" >12.01.2023</td>\n",
       "      <td id=\"T_fded5_row8_col2\" class=\"data row8 col2\" >F</td>\n",
       "    </tr>\n",
       "    <tr>\n",
       "      <th id=\"T_fded5_level0_row9\" class=\"row_heading level0 row9\" >11</th>\n",
       "      <td id=\"T_fded5_row9_col0\" class=\"data row9 col0\" >Nattvardsgästerna</td>\n",
       "      <td id=\"T_fded5_row9_col1\" class=\"data row9 col1\" >13.01.2023</td>\n",
       "      <td id=\"T_fded5_row9_col2\" class=\"data row9 col2\" >F</td>\n",
       "    </tr>\n",
       "  </tbody>\n",
       "</table>\n"
      ],
      "text/plain": [
       "<IPython.core.display.HTML object>"
      ]
     },
     "metadata": {},
     "output_type": "display_data"
    }
   ],
   "source": [
    "from IPython.display import display\n",
    "from IPython.display import clear_output\n",
    "from ipywidgets import Dropdown, Button, Layout\n",
    "from films2023 import *\n",
    "\n",
    "v = 10\n",
    "n = 1\n",
    "\n",
    "dropdown1 = Dropdown(options=[('By watch date', 1), ('In alphabetical order', 2)],\n",
    "                     value=1,\n",
    "                     description='Sorting:',\n",
    "                     layout=Layout(width='300px', margin='0px 0px 0px 0px'))\n",
    "\n",
    "button1 = Button(description=\"Show all movies\",\n",
    "                 button_style='',\n",
    "                 layout=Layout(width='200px', margin='0px 0px 0px 70px'))\n",
    "\n",
    "\n",
    "def sort_list(b):\n",
    "    global n, v\n",
    "    clear_output(wait=True)\n",
    "    display(dropdown1)\n",
    "    display(button1)\n",
    "    n = b['new']\n",
    "    svod_table(n, v)\n",
    "\n",
    "\n",
    "def first_num(b):\n",
    "    global v, n\n",
    "    clear_output(wait=True)\n",
    "    if v == 0:\n",
    "        v = 10\n",
    "        button1.description = \"Show all movies\"\n",
    "        display(button1)\n",
    "    else:\n",
    "        v = 0\n",
    "        button1.description = \"Show last 10 movies\"\n",
    "        button1.layout = Layout(width='250px', margin='0px 0px 0px 70px')\n",
    "        display(dropdown1)\n",
    "        display(button1)\n",
    "    svod_table(1, v)\n",
    "\n",
    "\n",
    "button1.on_click(first_num)\n",
    "dropdown1.observe(sort_list, names='value')\n",
    "\n",
    "analys()\n",
    "# display(dropdown1)\n",
    "display(button1)\n",
    "svod_table(n, v)"
   ]
  },
  {
   "cell_type": "markdown",
   "metadata": {},
   "source": [
    "### Adding last watched movie or TV series:"
   ]
  },
  {
   "cell_type": "code",
   "execution_count": 1,
   "metadata": {
    "scrolled": true
   },
   "outputs": [
    {
     "name": "stdout",
     "output_type": "stream",
     "text": [
      "Last watched movie or TV series: Nattvardsgästerna\n",
      "Date of last watched movie or TV series (DD.MM): 13.01\n",
      "First time watched (F - default) or rewatched (R) (*for movies*): \n",
      "Save or reinter (y/n): \n"
     ]
    }
   ],
   "source": [
    "from films2023 import *\n",
    "input_film()"
   ]
  },
  {
   "cell_type": "markdown",
   "metadata": {},
   "source": [
    "### Counting the amount of watched movies and how many left to reach the goal:"
   ]
  },
  {
   "cell_type": "code",
   "execution_count": 2,
   "metadata": {},
   "outputs": [
    {
     "name": "stdout",
     "output_type": "stream",
     "text": [
      "We watched already 11 movies in 2023\n",
      "\n",
      "\n",
      "TO PREVAIL OUR GOAL WE NEED TO WATCH 189 MOVIES BEFORE THE END OF THIS YEAR!\n"
     ]
    }
   ],
   "source": [
    "from films2023 import *\n",
    "analys()\n",
    "count_films()"
   ]
  },
  {
   "cell_type": "markdown",
   "metadata": {},
   "source": [
    "### Counting the amount of watched TV series:"
   ]
  },
  {
   "cell_type": "code",
   "execution_count": 8,
   "metadata": {},
   "outputs": [
    {
     "name": "stdout",
     "output_type": "stream",
     "text": [
      "We watched already 0 TV shows in 2023\n"
     ]
    }
   ],
   "source": [
    "count_ser()"
   ]
  },
  {
   "cell_type": "markdown",
   "metadata": {},
   "source": [
    "________________________________________________________________"
   ]
  },
  {
   "cell_type": "markdown",
   "metadata": {
    "heading_collapsed": true
   },
   "source": [
    "### Last watched movie"
   ]
  },
  {
   "cell_type": "code",
   "execution_count": 7,
   "metadata": {
    "hidden": true,
    "scrolled": true
   },
   "outputs": [
    {
     "name": "stdout",
     "output_type": "stream",
     "text": [
      "Last watched movie - \"Vanilla Sky\"\n",
      "Watched on: [07.01.2023]\n"
     ]
    }
   ],
   "source": [
    "last_film()"
   ]
  },
  {
   "cell_type": "markdown",
   "metadata": {
    "heading_collapsed": true
   },
   "source": [
    "### Last watched TV series (or season)"
   ]
  },
  {
   "cell_type": "code",
   "execution_count": 6,
   "metadata": {
    "hidden": true
   },
   "outputs": [
    {
     "name": "stdout",
     "output_type": "stream",
     "text": [
      "Last watched TV series (or season) - None\n",
      "Ended to watch on: [xx.xx.xxxx]\n"
     ]
    }
   ],
   "source": [
    "last_show()"
   ]
  },
  {
   "cell_type": "markdown",
   "metadata": {
    "heading_collapsed": true
   },
   "source": [
    "### Show the whole watched movies list (alphabetically)"
   ]
  },
  {
   "cell_type": "code",
   "execution_count": 4,
   "metadata": {
    "hidden": true
   },
   "outputs": [
    {
     "name": "stdout",
     "output_type": "stream",
     "text": [
      "Koyaanisqatsi\n",
      "Nope\n",
      "Philadelphia\n",
      "There Will Be Blood\n",
      "Vanilla Sky\n",
      "White Noise\n"
     ]
    }
   ],
   "source": [
    "all_films()"
   ]
  },
  {
   "cell_type": "markdown",
   "metadata": {
    "heading_collapsed": true
   },
   "source": [
    "### Show the whole watched TV series list (alphabetically) and seasons count"
   ]
  },
  {
   "cell_type": "code",
   "execution_count": 5,
   "metadata": {
    "hidden": true
   },
   "outputs": [
    {
     "name": "stdout",
     "output_type": "stream",
     "text": [
      "\n",
      "Total count of seasons: 0\n"
     ]
    }
   ],
   "source": [
    "ser_res()"
   ]
  }
 ],
 "metadata": {
  "hide_input": true,
  "kernelspec": {
   "display_name": "Python 3 (ipykernel)",
   "language": "python",
   "name": "python3"
  },
  "language_info": {
   "codemirror_mode": {
    "name": "ipython",
    "version": 3
   },
   "file_extension": ".py",
   "mimetype": "text/x-python",
   "name": "python",
   "nbconvert_exporter": "python",
   "pygments_lexer": "ipython3",
   "version": "3.9.12"
  },
  "toc": {
   "base_numbering": 1,
   "nav_menu": {},
   "number_sections": true,
   "sideBar": true,
   "skip_h1_title": false,
   "title_cell": "Table of Contents",
   "title_sidebar": "Contents",
   "toc_cell": false,
   "toc_position": {},
   "toc_section_display": true,
   "toc_window_display": false
  }
 },
 "nbformat": 4,
 "nbformat_minor": 4
}
